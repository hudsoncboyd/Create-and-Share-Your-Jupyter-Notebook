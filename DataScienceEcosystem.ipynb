{
 "cells": [
  {
   "cell_type": "markdown",
   "id": "8885ffed-1e77-4ad0-923a-cc76c9c9f4f4",
   "metadata": {},
   "source": [
    "# Data Science Tools and Ecosystem"
   ]
  },
  {
   "cell_type": "markdown",
   "id": "8642e953-715f-407d-ac4f-0d211d70a982",
   "metadata": {},
   "source": [
    "Objectives:\n",
    "- List popular languages for Data Science\n",
    "- List popular libraries for Data Science\n",
    "- Do basic arithmetic in Python"
   ]
  },
  {
   "cell_type": "markdown",
   "id": "1eb2e596-d9f1-4bb4-8706-963a2d93d86f",
   "metadata": {},
   "source": [
    "In this notebook, Data Science Tools and Ecosystem are summarized. "
   ]
  },
  {
   "cell_type": "markdown",
   "id": "d827c795-8068-4598-8962-042b8d7c88d5",
   "metadata": {},
   "source": [
    "Some of the popular languages that Data Scientists use are:\n",
    "1. Python\n",
    "2. R\n",
    "3. SQL\n",
    "4. Git"
   ]
  },
  {
   "cell_type": "markdown",
   "id": "2e5a2c49-e84f-403f-886c-4d950b2db01d",
   "metadata": {},
   "source": [
    "Some of the commonly used libraries used by Data Scientists include:\n",
    "1. Pandas\n",
    "2. Matplotlib\n",
    "3. NumPy"
   ]
  },
  {
   "cell_type": "markdown",
   "id": "3cca8d9e-f4b5-447d-9771-7c0a7d6f9f54",
   "metadata": {},
   "source": [
    "| Data Science Tools | \n",
    "| ---- | \n",
    "| Jupyter |\n",
    "| Apache Zeppelin |\n",
    "| Spyder |"
   ]
  },
  {
   "cell_type": "markdown",
   "id": "5699e0c3-8726-478a-abdc-3079336846cd",
   "metadata": {},
   "source": [
    "### Below are a few examples of evaluating arithmetic expressions in Python"
   ]
  },
  {
   "cell_type": "code",
   "execution_count": 8,
   "id": "aaf580c5-0b77-4445-a876-d0e3681bce79",
   "metadata": {},
   "outputs": [
    {
     "data": {
      "text/plain": [
       "17"
      ]
     },
     "execution_count": 8,
     "metadata": {},
     "output_type": "execute_result"
    }
   ],
   "source": [
    "#This is a simple arithmetic expression to multiply then add integers\n",
    "(3*4)+5"
   ]
  },
  {
   "cell_type": "code",
   "execution_count": 10,
   "id": "cb2e2823-e305-4532-97c5-79b751562c5c",
   "metadata": {},
   "outputs": [
    {
     "data": {
      "text/plain": [
       "3.3333333333333335"
      ]
     },
     "execution_count": 10,
     "metadata": {},
     "output_type": "execute_result"
    }
   ],
   "source": [
    "#This will convert 200 minutes to hours by dividing by 60\n",
    "200/60"
   ]
  },
  {
   "cell_type": "markdown",
   "id": "b047c1a3-e05f-4a7d-8a1c-b02de2f35b6b",
   "metadata": {},
   "source": [
    "## Author\n",
    "Hudson Boyd"
   ]
  },
  {
   "cell_type": "code",
   "execution_count": null,
   "id": "080a45ec-4c6d-4ce6-8c05-013344cb8a5d",
   "metadata": {},
   "outputs": [],
   "source": []
  }
 ],
 "metadata": {
  "kernelspec": {
   "display_name": "anaconda-panel-2023.05-py310",
   "language": "python",
   "name": "conda-env-anaconda-panel-2023.05-py310-py"
  },
  "language_info": {
   "codemirror_mode": {
    "name": "ipython",
    "version": 3
   },
   "file_extension": ".py",
   "mimetype": "text/x-python",
   "name": "python",
   "nbconvert_exporter": "python",
   "pygments_lexer": "ipython3",
   "version": "3.11.5"
  }
 },
 "nbformat": 4,
 "nbformat_minor": 5
}
